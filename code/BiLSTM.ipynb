{
  "nbformat": 4,
  "nbformat_minor": 0,
  "metadata": {
    "kernelspec": {
      "name": "python3",
      "display_name": "Python 3"
    },
    "language_info": {
      "codemirror_mode": {
        "name": "ipython",
        "version": 3
      },
      "file_extension": ".py",
      "mimetype": "text/x-python",
      "name": "python",
      "nbconvert_exporter": "python",
      "pygments_lexer": "ipython3",
      "version": "3.6.4"
    },
    "colab": {
      "name": "BiLSTM!.ipynb",
      "provenance": [],
      "collapsed_sections": [],
      "toc_visible": true
    }
  },
  "cells": [
    {
      "cell_type": "markdown",
      "metadata": {
        "id": "Ri73qL1ZSmZ9",
        "colab_type": "text"
      },
      "source": [
        "# BiLSTM"
      ]
    },
    {
      "cell_type": "markdown",
      "metadata": {
        "id": "XkM9UC7MStVa",
        "colab_type": "text"
      },
      "source": [
        "Import pandas + numpy and load train + test data"
      ]
    },
    {
      "cell_type": "code",
      "metadata": {
        "id": "zxzQl-BBrdVL",
        "colab_type": "code",
        "colab": {}
      },
      "source": [
        "import pandas as pd\n",
        "import numpy as np\n",
        "\n",
        "data = pd.read_csv('Train_set.csv', encoding='latin1')\n",
        "\n",
        "# Change de test sets\n",
        "\n",
        "test = pd.read_csv('Test_set.csv')\n",
        "# test = pd.read_csv('Zero-shot.csv')\n",
        "data = data.append(test)"
      ],
      "execution_count": 0,
      "outputs": []
    },
    {
      "cell_type": "code",
      "metadata": {
        "id": "GnP4A2QQYcui",
        "colab_type": "code",
        "colab": {}
      },
      "source": [
        "%tensorflow_version 1.x"
      ],
      "execution_count": 0,
      "outputs": []
    },
    {
      "cell_type": "code",
      "metadata": {
        "id": "jOZIuz7VTRvE",
        "colab_type": "code",
        "colab": {}
      },
      "source": [
        "from numpy.random import seed\n",
        "seed(1)\n",
        "from tensorflow import set_random_seed\n",
        "set_random_seed(1)"
      ],
      "execution_count": 0,
      "outputs": []
    },
    {
      "cell_type": "markdown",
      "metadata": {
        "id": "55U_GcLvT6O7",
        "colab_type": "text"
      },
      "source": [
        "Make a list of all words in the train and test set"
      ]
    },
    {
      "cell_type": "code",
      "metadata": {
        "id": "SLGjahMHrdVf",
        "colab_type": "code",
        "colab": {}
      },
      "source": [
        "words = list(set(data[\"Word\"].values))\n",
        "words.append(\"ENDPAD\")\n",
        "test_words = list(set(test[\"Word\"].values))\n",
        "test_words.append(\"ENDPAD\")"
      ],
      "execution_count": 0,
      "outputs": []
    },
    {
      "cell_type": "code",
      "metadata": {
        "id": "ZYBICY_rrdVk",
        "colab_type": "code",
        "colab": {}
      },
      "source": [
        "test_n_words = len(test_words)\n",
        "n_words = len(words)"
      ],
      "execution_count": 0,
      "outputs": []
    },
    {
      "cell_type": "code",
      "metadata": {
        "id": "I2D-qi8wrdVp",
        "colab_type": "code",
        "colab": {}
      },
      "source": [
        "tags = list(set(data[\"Tag\"].values))\n",
        "test_tags = list(set(test['Tag'].values))"
      ],
      "execution_count": 0,
      "outputs": []
    },
    {
      "cell_type": "code",
      "metadata": {
        "id": "J1_v1az3rdVv",
        "colab_type": "code",
        "colab": {}
      },
      "source": [
        "test_n_tags = len(test_tags)\n",
        "n_tags = len(tags)"
      ],
      "execution_count": 0,
      "outputs": []
    },
    {
      "cell_type": "markdown",
      "metadata": {
        "id": "k7hFRcXZUdr3",
        "colab_type": "text"
      },
      "source": [
        "Sentence Getter"
      ]
    },
    {
      "cell_type": "code",
      "metadata": {
        "id": "e6fB18h9rdV1",
        "colab_type": "code",
        "colab": {}
      },
      "source": [
        "class SentenceGetter(object):\n",
        "    \n",
        "    def __init__(self, data):\n",
        "        self.n_sent = 1\n",
        "        self.data = data\n",
        "        self.empty = False\n",
        "        agg_func = lambda s: [(w, p, t) for w, p, t in zip(s[\"Word\"].values.tolist(),\n",
        "                                                           s[\"POS\"].values.tolist(),\n",
        "                                                           s[\"Tag\"].values.tolist())]\n",
        "        self.grouped = self.data.groupby(\"Sentence #\").apply(agg_func)\n",
        "        self.sentences = [s for s in self.grouped]\n",
        "    \n",
        "    def get_next(self):\n",
        "        try:\n",
        "            s = self.grouped[\"Sentence: {}\".format(self.n_sent)]\n",
        "            self.n_sent += 1\n",
        "            return s\n",
        "        except:\n",
        "            return None"
      ],
      "execution_count": 0,
      "outputs": []
    },
    {
      "cell_type": "code",
      "metadata": {
        "id": "2yToNOnVrdV5",
        "colab_type": "code",
        "colab": {}
      },
      "source": [
        "getter = SentenceGetter(data)\n",
        "test_getter = SentenceGetter(test)"
      ],
      "execution_count": 0,
      "outputs": []
    },
    {
      "cell_type": "code",
      "metadata": {
        "id": "QHID3aQArdV_",
        "colab_type": "code",
        "colab": {}
      },
      "source": [
        "sent = getter.get_next()\n",
        "test_sent = test_getter.get_next()"
      ],
      "execution_count": 0,
      "outputs": []
    },
    {
      "cell_type": "code",
      "metadata": {
        "id": "X3c7Q5h0rdWL",
        "colab_type": "code",
        "colab": {}
      },
      "source": [
        "sentences = getter.sentences\n",
        "test_sentences = test_getter.sentences"
      ],
      "execution_count": 0,
      "outputs": []
    },
    {
      "cell_type": "markdown",
      "metadata": {
        "id": "L6G7llxbU1x6",
        "colab_type": "text"
      },
      "source": [
        "Enumerate and pad sentences"
      ]
    },
    {
      "cell_type": "code",
      "metadata": {
        "id": "BrHL45G9rdWb",
        "colab_type": "code",
        "colab": {}
      },
      "source": [
        "max_len = 75\n",
        "word2idx = {w: i for i, w in enumerate(words)}\n",
        "tag2idx = {t: i for i, t in enumerate(tags)}\n",
        "test_word2idx = {w: i for i, w in enumerate(test_words)}\n",
        "test_tag2idx = {t: i for i, t in enumerate(test_tags)}"
      ],
      "execution_count": 0,
      "outputs": []
    },
    {
      "cell_type": "code",
      "metadata": {
        "id": "H04nh_iLrdWs",
        "colab_type": "code",
        "colab": {}
      },
      "source": [
        "from keras.preprocessing.sequence import pad_sequences\n",
        "X = [[word2idx[w[0]] for w in s] for s in sentences]\n",
        "test_X = [[test_word2idx[w[0]] for w in s] for s in test_sentences]"
      ],
      "execution_count": 0,
      "outputs": []
    },
    {
      "cell_type": "code",
      "metadata": {
        "id": "0Oxij8lHrdWw",
        "colab_type": "code",
        "colab": {}
      },
      "source": [
        "X = pad_sequences(maxlen=max_len, sequences=X, padding=\"post\", value=n_words - 1)\n",
        "test_X = pad_sequences(maxlen=max_len, sequences=test_X, padding=\"post\", value=test_n_words - 1)"
      ],
      "execution_count": 0,
      "outputs": []
    },
    {
      "cell_type": "code",
      "metadata": {
        "id": "IYgE9CkArdW7",
        "colab_type": "code",
        "colab": {}
      },
      "source": [
        "y = [[tag2idx[w[2]] for w in s] for s in sentences]\n",
        "test_y = [[test_tag2idx[w[2]] for w in s] for s in test_sentences]"
      ],
      "execution_count": 0,
      "outputs": []
    },
    {
      "cell_type": "code",
      "metadata": {
        "id": "Z2B0AaZordXA",
        "colab_type": "code",
        "colab": {}
      },
      "source": [
        "y = pad_sequences(maxlen=max_len, sequences=y, padding=\"post\", value=tag2idx[\"O\"])\n",
        "test_y = pad_sequences(maxlen=max_len, sequences=test_y, padding=\"post\", value=test_tag2idx[\"O\"])"
      ],
      "execution_count": 0,
      "outputs": []
    },
    {
      "cell_type": "markdown",
      "metadata": {
        "id": "6eIswEwhVSzS",
        "colab_type": "text"
      },
      "source": [
        "Transform to categorical"
      ]
    },
    {
      "cell_type": "code",
      "metadata": {
        "id": "a_KfFtJPrdXN",
        "colab_type": "code",
        "colab": {}
      },
      "source": [
        "from keras.utils import to_categorical"
      ],
      "execution_count": 0,
      "outputs": []
    },
    {
      "cell_type": "code",
      "metadata": {
        "id": "96TRhgDPrdXR",
        "colab_type": "code",
        "colab": {}
      },
      "source": [
        "y = [to_categorical(i, num_classes=n_tags) for i in y]\n",
        "test_y = [to_categorical(i, num_classes=n_tags) for i in test_y]"
      ],
      "execution_count": 0,
      "outputs": []
    },
    {
      "cell_type": "markdown",
      "metadata": {
        "id": "P61bx2PtVekG",
        "colab_type": "text"
      },
      "source": [
        "Define Train and Test set"
      ]
    },
    {
      "cell_type": "code",
      "metadata": {
        "id": "o2RdAHcJrdXb",
        "colab_type": "code",
        "colab": {}
      },
      "source": [
        "X_tr = X[:len(X)-len(test_X)]\n",
        "X_te = X[len(X)-len(test_X):]\n",
        "y_tr = y[:len(X)-len(test_X)]\n",
        "y_te = y[len(X)-len(test_X):]"
      ],
      "execution_count": 0,
      "outputs": []
    },
    {
      "cell_type": "code",
      "metadata": {
        "id": "Ext3qnhGigxk",
        "colab_type": "code",
        "colab": {}
      },
      "source": [
        "# Code for if the train or test sets need to be shuffled\n",
        "\n",
        "# train set\n",
        "# import random\n",
        "# random.seed(23)\n",
        "# c = list(zip(X_tr, y_tr))\n",
        "# random.shuffle(c)\n",
        "# X_tr, y_tr = zip(*c)\n",
        "\n",
        "# test set\n",
        "# import random\n",
        "# random.seed(23)\n",
        "# c = list(zip(X_te, y_te))\n",
        "# random.shuffle(c)\n",
        "# X_te, y_te = zip(*c)"
      ],
      "execution_count": 0,
      "outputs": []
    },
    {
      "cell_type": "markdown",
      "metadata": {
        "id": "IERXmatpVkER",
        "colab_type": "text"
      },
      "source": [
        "The model"
      ]
    },
    {
      "cell_type": "code",
      "metadata": {
        "id": "ovAX8Lx_rdXf",
        "colab_type": "code",
        "colab": {}
      },
      "source": [
        "from keras.models import Model, Input\n",
        "from keras.layers import LSTM, Embedding, Dense, TimeDistributed, Dropout, Bidirectional"
      ],
      "execution_count": 0,
      "outputs": []
    },
    {
      "cell_type": "code",
      "metadata": {
        "id": "WLVqm0eKrdXj",
        "colab_type": "code",
        "colab": {}
      },
      "source": [
        "input = Input(shape=(max_len,))\n",
        "model = Embedding(input_dim=n_words, output_dim=50, input_length=max_len)(input)\n",
        "model = Dropout(0.1)(model)\n",
        "model = Bidirectional(LSTM(units=100, return_sequences=True, recurrent_dropout=0.1))(model)\n",
        "out = TimeDistributed(Dense(n_tags, activation=\"softmax\"))(model)  # softmax output layer"
      ],
      "execution_count": 0,
      "outputs": []
    },
    {
      "cell_type": "code",
      "metadata": {
        "id": "xlRGeVRIrdXm",
        "colab_type": "code",
        "colab": {}
      },
      "source": [
        "model = Model(input, out)"
      ],
      "execution_count": 0,
      "outputs": []
    },
    {
      "cell_type": "code",
      "metadata": {
        "id": "UBEpiFNErdXt",
        "colab_type": "code",
        "colab": {}
      },
      "source": [
        "model.compile(optimizer=\"rmsprop\", loss=\"categorical_crossentropy\", metrics=[\"accuracy\"])"
      ],
      "execution_count": 0,
      "outputs": []
    },
    {
      "cell_type": "code",
      "metadata": {
        "id": "v9luoS8erdXz",
        "colab_type": "code",
        "colab": {}
      },
      "source": [
        "history = model.fit(np.array(X_tr), np.array(y_tr), batch_size=32, epochs=5, \n",
        "                    validation_split=0.1, verbose=1)"
      ],
      "execution_count": 0,
      "outputs": []
    },
    {
      "cell_type": "code",
      "metadata": {
        "id": "Mhg8k04Z1NKT",
        "colab_type": "code",
        "colab": {}
      },
      "source": [
        "test_pred = model.predict(np.array(X_te), verbose=1)"
      ],
      "execution_count": 0,
      "outputs": []
    },
    {
      "cell_type": "code",
      "metadata": {
        "id": "qWreZhQs1KNl",
        "colab_type": "code",
        "colab": {}
      },
      "source": [
        "idx2tag = {i: w for w, i in test_tag2idx.items()}\n",
        "\n",
        "def pred2label(pred):\n",
        "    out = []\n",
        "    for pred_i in pred:\n",
        "        out_i = []\n",
        "        for p in pred_i:\n",
        "            p_i = np.argmax(p)\n",
        "            out_i.append(idx2tag[p_i].replace(\"PAD\", \"O\"))\n",
        "        out.append(out_i)\n",
        "    return out\n",
        "    \n",
        "pred_labels = pred2label(test_pred)\n",
        "test_labels = pred2label(y_te)"
      ],
      "execution_count": 0,
      "outputs": []
    },
    {
      "cell_type": "markdown",
      "metadata": {
        "id": "B21USwBRb8Nc",
        "colab_type": "text"
      },
      "source": [
        "Evaluation"
      ]
    },
    {
      "cell_type": "code",
      "metadata": {
        "id": "8UkSLiHBQ-06",
        "colab_type": "code",
        "colab": {}
      },
      "source": [
        "!pip install seqeval"
      ],
      "execution_count": 0,
      "outputs": []
    },
    {
      "cell_type": "code",
      "metadata": {
        "id": "O96cf-m91cY8",
        "colab_type": "code",
        "colab": {}
      },
      "source": [
        "from nervaluate import Evaluator\n",
        "from seqeval.metrics import precision_score, recall_score, f1_score, classification_report"
      ],
      "execution_count": 0,
      "outputs": []
    },
    {
      "cell_type": "code",
      "metadata": {
        "id": "Zgn_3B6TQ5Qi",
        "colab_type": "code",
        "colab": {}
      },
      "source": [
        "print(classification_report(test_labels, pred_labels))"
      ],
      "execution_count": 0,
      "outputs": []
    },
    {
      "cell_type": "code",
      "metadata": {
        "id": "rDlm4Z65bM9a",
        "colab_type": "code",
        "colab": {}
      },
      "source": [
        "evaluator = Evaluator(test_labels, pred_labels, tags= [''], loader='list')"
      ],
      "execution_count": 0,
      "outputs": []
    },
    {
      "cell_type": "code",
      "metadata": {
        "id": "Dm-5xxY-bU8-",
        "colab_type": "code",
        "colab": {}
      },
      "source": [
        "results, results_per_tag = evaluator.evaluate()"
      ],
      "execution_count": 0,
      "outputs": []
    },
    {
      "cell_type": "code",
      "metadata": {
        "id": "SGNfQdZpbcMK",
        "colab_type": "code",
        "colab": {}
      },
      "source": [
        "results"
      ],
      "execution_count": 0,
      "outputs": []
    },
    {
      "cell_type": "code",
      "metadata": {
        "id": "f35zYw3obeU9",
        "colab_type": "code",
        "colab": {}
      },
      "source": [
        ""
      ],
      "execution_count": 0,
      "outputs": []
    }
  ]
}