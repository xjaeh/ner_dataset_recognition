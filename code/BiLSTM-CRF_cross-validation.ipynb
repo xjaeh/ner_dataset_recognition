{
  "nbformat": 4,
  "nbformat_minor": 0,
  "metadata": {
    "colab": {
      "name": "cv_BiLSTM-CRF!.ipynb",
      "provenance": [],
      "toc_visible": true
    },
    "kernelspec": {
      "name": "python3",
      "display_name": "Python 3"
    }
  },
  "cells": [
    {
      "cell_type": "markdown",
      "metadata": {
        "id": "Jo8-uLrFUuqO",
        "colab_type": "text"
      },
      "source": [
        "# BiLSTM-CRF"
      ]
    },
    {
      "cell_type": "markdown",
      "metadata": {
        "id": "Zfivpl4RU0x1",
        "colab_type": "text"
      },
      "source": [
        "import pandas + numpy and load data"
      ]
    },
    {
      "cell_type": "code",
      "metadata": {
        "id": "rGLTVmLmxrHk",
        "colab_type": "code",
        "colab": {}
      },
      "source": [
        "import pandas as pd\n",
        "import numpy as np\n",
        "\n",
        "data = pd.read_csv('Dataset.csv', encoding='latin1')[['Sentence #','Word','POS', 'Tag']]"
      ],
      "execution_count": 0,
      "outputs": []
    },
    {
      "cell_type": "code",
      "metadata": {
        "id": "dxuWztqp8VM2",
        "colab_type": "code",
        "colab": {}
      },
      "source": [
        "%tensorflow_version 1.x"
      ],
      "execution_count": 0,
      "outputs": []
    },
    {
      "cell_type": "code",
      "metadata": {
        "id": "9E7yWAdEoQ5D",
        "colab_type": "code",
        "colab": {}
      },
      "source": [
        "from numpy.random import seed\n",
        "seed(1)\n",
        "from tensorflow import set_random_seed\n",
        "set_random_seed(1)"
      ],
      "execution_count": 0,
      "outputs": []
    },
    {
      "cell_type": "markdown",
      "metadata": {
        "id": "43L2m404VjK2",
        "colab_type": "text"
      },
      "source": [
        "Make a list of all words in the data"
      ]
    },
    {
      "cell_type": "code",
      "metadata": {
        "id": "hIQO899hx4CY",
        "colab_type": "code",
        "colab": {}
      },
      "source": [
        "words = list(set(data[\"Word\"].values))\n",
        "words.append(\"ENDPAD\")"
      ],
      "execution_count": 0,
      "outputs": []
    },
    {
      "cell_type": "code",
      "metadata": {
        "id": "RlKliJaOx_l2",
        "colab_type": "code",
        "colab": {}
      },
      "source": [
        "n_words = len(words)"
      ],
      "execution_count": 0,
      "outputs": []
    },
    {
      "cell_type": "code",
      "metadata": {
        "id": "VYXC_bvEyD2y",
        "colab_type": "code",
        "colab": {}
      },
      "source": [
        "tags = list(set(data[\"Tag\"].values))"
      ],
      "execution_count": 0,
      "outputs": []
    },
    {
      "cell_type": "code",
      "metadata": {
        "id": "Qi7V2CnnyE-r",
        "colab_type": "code",
        "colab": {}
      },
      "source": [
        "n_tags = len(tags)"
      ],
      "execution_count": 0,
      "outputs": []
    },
    {
      "cell_type": "markdown",
      "metadata": {
        "id": "TotEdG4tVrrv",
        "colab_type": "text"
      },
      "source": [
        "Sentence getter"
      ]
    },
    {
      "cell_type": "code",
      "metadata": {
        "id": "_vpbjPKUyIUr",
        "colab_type": "code",
        "colab": {}
      },
      "source": [
        "class SentenceGetter(object):\n",
        "    \n",
        "    def __init__(self, data):\n",
        "        self.n_sent = 1\n",
        "        self.data = data\n",
        "        self.empty = False\n",
        "        agg_func = lambda s: [(w, p, t) for w, p, t in zip(s[\"Word\"].values.tolist(),\n",
        "                                                           s[\"POS\"].values.tolist(),\n",
        "                                                           s[\"Tag\"].values.tolist())]\n",
        "        self.grouped = self.data.groupby(\"Sentence #\").apply(agg_func)\n",
        "        self.sentences = [s for s in self.grouped]\n",
        "    \n",
        "    def get_next(self):\n",
        "        try:\n",
        "            s = self.grouped[\"Sentence: {}\".format(self.n_sent)]\n",
        "            self.n_sent += 1\n",
        "            return s\n",
        "        except:\n",
        "            return None"
      ],
      "execution_count": 0,
      "outputs": []
    },
    {
      "cell_type": "code",
      "metadata": {
        "id": "cq59YO6pyNfq",
        "colab_type": "code",
        "colab": {}
      },
      "source": [
        "getter = SentenceGetter(data)"
      ],
      "execution_count": 0,
      "outputs": []
    },
    {
      "cell_type": "code",
      "metadata": {
        "id": "bKxaF_NfyORG",
        "colab_type": "code",
        "colab": {}
      },
      "source": [
        "sentences = getter.sentences"
      ],
      "execution_count": 0,
      "outputs": []
    },
    {
      "cell_type": "markdown",
      "metadata": {
        "id": "nX_9weWDVwlh",
        "colab_type": "text"
      },
      "source": [
        "Enumerate and pad sentences"
      ]
    },
    {
      "cell_type": "code",
      "metadata": {
        "id": "vU1dAOSeyTti",
        "colab_type": "code",
        "colab": {}
      },
      "source": [
        "max_len = 75\n",
        "word2idx = {w: i for i, w in enumerate(words)}\n",
        "tag2idx = {t: i for i, t in enumerate(tags)}"
      ],
      "execution_count": 0,
      "outputs": []
    },
    {
      "cell_type": "code",
      "metadata": {
        "id": "ebzRClYVyZqz",
        "colab_type": "code",
        "colab": {}
      },
      "source": [
        "from keras.preprocessing.sequence import pad_sequences\n",
        "X = [[word2idx[w[0]] for w in s] for s in sentences]\n",
        "y = [[tag2idx[w[2]] for w in s] for s in sentences]"
      ],
      "execution_count": 0,
      "outputs": []
    },
    {
      "cell_type": "code",
      "metadata": {
        "id": "-wUduZo2yd1z",
        "colab_type": "code",
        "colab": {}
      },
      "source": [
        "X = pad_sequences(maxlen=max_len, sequences=X, padding=\"post\", value=n_words - 1)\n",
        "y = pad_sequences(maxlen=max_len, sequences=y, padding=\"post\", value=tag2idx[\"O\"])"
      ],
      "execution_count": 0,
      "outputs": []
    },
    {
      "cell_type": "markdown",
      "metadata": {
        "id": "kjx75xX_V0WL",
        "colab_type": "text"
      },
      "source": [
        "Transform to categorical"
      ]
    },
    {
      "cell_type": "code",
      "metadata": {
        "id": "4PdCf-GOyo7m",
        "colab_type": "code",
        "colab": {}
      },
      "source": [
        "from keras.utils import to_categorical\n",
        "y = [to_categorical(i, num_classes=n_tags) for i in y]"
      ],
      "execution_count": 0,
      "outputs": []
    },
    {
      "cell_type": "markdown",
      "metadata": {
        "id": "gsnvScG6V73Y",
        "colab_type": "text"
      },
      "source": [
        "The model"
      ]
    },
    {
      "cell_type": "code",
      "metadata": {
        "id": "batuZzbE0_1i",
        "colab_type": "code",
        "colab": {}
      },
      "source": [
        "!pip install seqeval"
      ],
      "execution_count": 0,
      "outputs": []
    },
    {
      "cell_type": "code",
      "metadata": {
        "id": "p30fuD1H8iiV",
        "colab_type": "code",
        "colab": {}
      },
      "source": [
        "!git clone https://www.github.com/keras-team/keras-contrib.git\n",
        "%cd keras-contrib\n",
        "!python setup.py install"
      ],
      "execution_count": 0,
      "outputs": []
    },
    {
      "cell_type": "code",
      "metadata": {
        "id": "-Y8CNOqT2Kvs",
        "colab_type": "code",
        "colab": {}
      },
      "source": [
        "idx2tag = {i: w for w, i in tag2idx.items()}\n",
        "\n",
        "def pred2label(pred):\n",
        "    out = []\n",
        "    for pred_i in pred:\n",
        "        out_i = []\n",
        "        for p in pred_i:\n",
        "            p_i = np.argmax(p)\n",
        "            out_i.append(idx2tag[p_i].replace(\"PAD\", \"O\"))\n",
        "        out.append(out_i)\n",
        "    return out\n",
        "    \n"
      ],
      "execution_count": 0,
      "outputs": []
    },
    {
      "cell_type": "code",
      "metadata": {
        "id": "1HUap7xkyzJV",
        "colab_type": "code",
        "colab": {}
      },
      "source": [
        "import os\n",
        "from sklearn import metrics\n",
        "from scipy.stats import zscore\n",
        "from sklearn.model_selection import StratifiedKFold\n",
        "from keras.models import Model, Input\n",
        "from keras.layers import LSTM, Embedding, Dense, TimeDistributed, Dropout, Bidirectional\n",
        "from seqeval.metrics import precision_score, recall_score, f1_score, classification_report\n",
        "from nervaluate import Evaluator\n",
        "from keras_contrib.layers import CRF\n",
        "\n",
        "skf = StratifiedKFold(5, shuffle=True, random_state=42)\n",
        "\n",
        "\n",
        "\n",
        "resultslist = []    \n",
        "oos_y = []\n",
        "oos_pred = []\n",
        "oos_x = []\n",
        "\n",
        "fold = 0\n",
        "for train, test in skf.split(X,[1 if 0 in [np.array(yyy).argmax() for yyy in yy] else 0 for yy in y]):\n",
        "    fold+=1\n",
        "    print(f\"Fold #{fold}\")\n",
        "        \n",
        "    x_train = X[train]\n",
        "    y_train = np.array(y)[train]\n",
        "    x_test = X[test]\n",
        "    y_test = np.array(y)[test]\n",
        "    \n",
        "    input = Input(shape=(max_len,))\n",
        "    model = Embedding(input_dim=n_words + 1, output_dim=50,\n",
        "                      input_length=max_len)(input)  # 20-dim embedding\n",
        "    model = Bidirectional(LSTM(units=100, return_sequences=True,\n",
        "                              recurrent_dropout=0.1))(model)  # variational biLSTM\n",
        "    model = TimeDistributed(Dense(50, activation=\"relu\"))(model)  # a dense layer as suggested by neuralNer\n",
        "    crf = CRF(n_tags)  # CRF layer\n",
        "    out = crf(model)  # output\n",
        "    model = Model(input, out)\n",
        "    model.compile(optimizer=\"rmsprop\", loss=crf.loss_function, metrics=[crf.accuracy])\n",
        "\n",
        "    model.fit(x_train, np.array(y_train),batch_size=32,verbose=0,epochs=5)\n",
        "\n",
        "    \n",
        "    pred = model.predict(x_test)\n",
        "    \n",
        "    \n",
        "    print(classification_report(pred2label(y_test), pred2label(pred)))\n",
        "    evaluator = Evaluator(pred2label(y_test), pred2label(pred), tags= [''], loader='list')\n",
        "    results, results_per_tag = evaluator.evaluate()\n",
        "    resultslist.append(results)\n",
        "\n",
        "    oos_y.append(y_test)\n",
        "    oos_pred.append(pred)\n",
        "    oos_x.append(x_test)    \n",
        "\n",
        "\n",
        "\n",
        "# Build the oos prediction list \n",
        "oos_y = np.concatenate(oos_y)\n",
        "oos_pred = np.concatenate(oos_pred)\n",
        "oos_x = np.concatenate(oos_x)\n"
      ],
      "execution_count": 0,
      "outputs": []
    },
    {
      "cell_type": "markdown",
      "metadata": {
        "id": "7IsX1p14iuwA",
        "colab_type": "text"
      },
      "source": [
        "Results"
      ]
    },
    {
      "cell_type": "code",
      "metadata": {
        "id": "vNmyuQL80G4n",
        "colab_type": "code",
        "colab": {}
      },
      "source": [
        "# Calculate the SD scores of the B and I\n",
        "\n",
        "#np.std(np.array(['Fill in the scores']))"
      ],
      "execution_count": 0,
      "outputs": []
    },
    {
      "cell_type": "code",
      "metadata": {
        "id": "DS-5tWdo1xgW",
        "colab_type": "code",
        "colab": {}
      },
      "source": [
        "# Calculate the SD score of partial and exact\n",
        "\n",
        "np.std(np.array([r['partial']['precision'] for r in resultslist]))"
      ],
      "execution_count": 0,
      "outputs": []
    },
    {
      "cell_type": "code",
      "metadata": {
        "id": "Lgmvf02I8Y5c",
        "colab_type": "code",
        "colab": {}
      },
      "source": [
        "pred_labels = pred2label(oos_pred)\n",
        "test_labels = pred2label(oos_y)"
      ],
      "execution_count": 0,
      "outputs": []
    },
    {
      "cell_type": "code",
      "metadata": {
        "id": "qFJrOrt83WBN",
        "colab_type": "code",
        "colab": {}
      },
      "source": [
        "print(classification_report(test_labels, pred_labels))"
      ],
      "execution_count": 0,
      "outputs": []
    },
    {
      "cell_type": "code",
      "metadata": {
        "id": "UJNHUC8t1xr_",
        "colab_type": "code",
        "colab": {}
      },
      "source": [
        "evaluator = Evaluator(test_labels, pred_labels, tags= [''], loader='list')\n",
        "results, results_per_tag = evaluator.evaluate()"
      ],
      "execution_count": 0,
      "outputs": []
    },
    {
      "cell_type": "code",
      "metadata": {
        "id": "DXfhwhXS2InU",
        "colab_type": "code",
        "colab": {}
      },
      "source": [
        "results"
      ],
      "execution_count": 0,
      "outputs": []
    },
    {
      "cell_type": "code",
      "metadata": {
        "id": "weuuga5-26F1",
        "colab_type": "code",
        "colab": {}
      },
      "source": [
        ""
      ],
      "execution_count": 0,
      "outputs": []
    }
  ]
}