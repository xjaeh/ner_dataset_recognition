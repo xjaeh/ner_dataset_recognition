{
  "nbformat": 4,
  "nbformat_minor": 0,
  "metadata": {
    "colab": {
      "name": "BiLSTM-CRF!.ipynb",
      "provenance": [],
      "toc_visible": true
    },
    "kernelspec": {
      "name": "python3",
      "display_name": "Python 3"
    }
  },
  "cells": [
    {
      "cell_type": "markdown",
      "metadata": {
        "id": "ZdZcjmw7dOdW",
        "colab_type": "text"
      },
      "source": [
        "# BiLSTM-CRF"
      ]
    },
    {
      "cell_type": "markdown",
      "metadata": {
        "id": "pzgMildRdaOV",
        "colab_type": "text"
      },
      "source": [
        "Import pandas + numpy and load train + test data"
      ]
    },
    {
      "cell_type": "code",
      "metadata": {
        "id": "dtE1PFtfstY8",
        "colab_type": "code",
        "colab": {}
      },
      "source": [
        "import pandas as pd\n",
        "import numpy as np\n",
        "\n",
        "data = pd.read_csv('Train_set.csv', encoding='latin1')\n",
        "\n",
        "# Change de test sets\n",
        "\n",
        "test = pd.read_csv('Test_set.csv')\n",
        "# test = pd.read_csv('Zero-shot.csv')\n",
        "data = data.append(test)"
      ],
      "execution_count": 0,
      "outputs": []
    },
    {
      "cell_type": "code",
      "metadata": {
        "id": "MML-k6mVeJhS",
        "colab_type": "code",
        "colab": {}
      },
      "source": [
        "%tensorflow_version 1.x"
      ],
      "execution_count": 0,
      "outputs": []
    },
    {
      "cell_type": "code",
      "metadata": {
        "id": "R7VikRcywjTr",
        "colab_type": "code",
        "colab": {}
      },
      "source": [
        "from numpy.random import seed\n",
        "seed(1)\n",
        "from tensorflow import set_random_seed\n",
        "set_random_seed(1)"
      ],
      "execution_count": 0,
      "outputs": []
    },
    {
      "cell_type": "markdown",
      "metadata": {
        "id": "_OGc7YpVeRgw",
        "colab_type": "text"
      },
      "source": [
        "Make a list of all words in the train and test set"
      ]
    },
    {
      "cell_type": "code",
      "metadata": {
        "id": "tDzpTibye9Ts",
        "colab_type": "code",
        "colab": {}
      },
      "source": [
        "words = list(set(data[\"Word\"].values))\n",
        "words.append(\"ENDPAD\")\n",
        "test_words = list(set(test[\"Word\"].values))\n",
        "test_words.append(\"ENDPAD\")"
      ],
      "execution_count": 0,
      "outputs": []
    },
    {
      "cell_type": "code",
      "metadata": {
        "id": "0W9uMBZSfCdp",
        "colab_type": "code",
        "colab": {}
      },
      "source": [
        "test_n_words = len(test_words)\n",
        "n_words = len(words)"
      ],
      "execution_count": 0,
      "outputs": []
    },
    {
      "cell_type": "code",
      "metadata": {
        "id": "e_MGiF_pta4f",
        "colab_type": "code",
        "colab": {}
      },
      "source": [
        "tags = list(set(data[\"Tag\"].values))\n",
        "n_tags = len(tags)\n",
        "test_tags = list(set(test[\"Tag\"].values))\n",
        "test_n_tags = len(test_tags)"
      ],
      "execution_count": 0,
      "outputs": []
    },
    {
      "cell_type": "markdown",
      "metadata": {
        "id": "3JftuqdxfPW_",
        "colab_type": "text"
      },
      "source": [
        "Sentence Getter"
      ]
    },
    {
      "cell_type": "code",
      "metadata": {
        "id": "9FQ0ceZYtclI",
        "colab_type": "code",
        "colab": {}
      },
      "source": [
        "class SentenceGetter(object):\n",
        "    \n",
        "    def __init__(self, data):\n",
        "        self.n_sent = 1\n",
        "        self.data = data\n",
        "        self.empty = False\n",
        "        agg_func = lambda s: [(w, p, t) for w, p, t in zip(s[\"Word\"].values.tolist(),\n",
        "                                                           s[\"POS\"].values.tolist(),\n",
        "                                                           s[\"Tag\"].values.tolist())]\n",
        "        self.grouped = self.data.groupby(\"Sentence #\").apply(agg_func)\n",
        "        self.sentences = [s for s in self.grouped]\n",
        "    \n",
        "    def get_next(self):\n",
        "        try:\n",
        "            s = self.grouped[\"Sentence: {}\".format(self.n_sent)]\n",
        "            self.n_sent += 1\n",
        "            return s\n",
        "        except:\n",
        "            return None"
      ],
      "execution_count": 0,
      "outputs": []
    },
    {
      "cell_type": "code",
      "metadata": {
        "id": "SXGlmU1-tgYi",
        "colab_type": "code",
        "colab": {}
      },
      "source": [
        "getter = SentenceGetter(data)\n",
        "test_getter = SentenceGetter(test)"
      ],
      "execution_count": 0,
      "outputs": []
    },
    {
      "cell_type": "code",
      "metadata": {
        "id": "1XTglSEztkAU",
        "colab_type": "code",
        "colab": {}
      },
      "source": [
        "sent = getter.get_next()\n",
        "test_sent = test_getter.get_next()"
      ],
      "execution_count": 0,
      "outputs": []
    },
    {
      "cell_type": "code",
      "metadata": {
        "id": "6QlE4nMLtniN",
        "colab_type": "code",
        "colab": {}
      },
      "source": [
        "sentences = getter.sentences\n",
        "test_sentences = test_getter.sentences\n",
        "len(test_sentences)"
      ],
      "execution_count": 0,
      "outputs": []
    },
    {
      "cell_type": "markdown",
      "metadata": {
        "id": "N5F68navfa0v",
        "colab_type": "text"
      },
      "source": [
        "Enumerate and pad sentences"
      ]
    },
    {
      "cell_type": "code",
      "metadata": {
        "id": "6jfXq6netqnj",
        "colab_type": "code",
        "colab": {}
      },
      "source": [
        "max_len = 75\n",
        "word2idx = {w: i + 1 for i, w in enumerate(words)}\n",
        "tag2idx = {t: i for i, t in enumerate(tags)}\n",
        "test_word2idx = {w: i + 1 for i, w in enumerate(test_words)}\n",
        "test_tag2idx = {t: i for i, t in enumerate(test_tags)}"
      ],
      "execution_count": 0,
      "outputs": []
    },
    {
      "cell_type": "code",
      "metadata": {
        "id": "HmYMMS5Vtwz8",
        "colab_type": "code",
        "colab": {}
      },
      "source": [
        "from keras.preprocessing.sequence import pad_sequences\n",
        "X = [[word2idx[w[0]] for w in s] for s in sentences]\n",
        "test_X = [[test_word2idx[w[0]] for w in s] for s in test_sentences]"
      ],
      "execution_count": 0,
      "outputs": []
    },
    {
      "cell_type": "code",
      "metadata": {
        "id": "FgqhqsXut0Lo",
        "colab_type": "code",
        "colab": {}
      },
      "source": [
        "X = pad_sequences(maxlen=max_len, sequences=X, padding=\"post\", value=n_words-1)\n",
        "test_X = pad_sequences(maxlen=max_len, sequences=test_X, padding=\"post\", value=test_n_words-1)"
      ],
      "execution_count": 0,
      "outputs": []
    },
    {
      "cell_type": "code",
      "metadata": {
        "id": "iHv-81UHt2AA",
        "colab_type": "code",
        "colab": {}
      },
      "source": [
        "y = [[tag2idx[w[2]] for w in s] for s in sentences]\n",
        "test_y = [[test_tag2idx[w[2]] for w in s] for s in test_sentences]"
      ],
      "execution_count": 0,
      "outputs": []
    },
    {
      "cell_type": "code",
      "metadata": {
        "id": "cJGsEau4t4Hc",
        "colab_type": "code",
        "colab": {}
      },
      "source": [
        "y = pad_sequences(maxlen=max_len, sequences=y, padding=\"post\", value=tag2idx[\"O\"])\n",
        "test_y = pad_sequences(maxlen=max_len, sequences=test_y, padding=\"post\", value=test_tag2idx[\"O\"])"
      ],
      "execution_count": 0,
      "outputs": []
    },
    {
      "cell_type": "markdown",
      "metadata": {
        "id": "aED9jDthfi0b",
        "colab_type": "text"
      },
      "source": [
        "Transform to categorical"
      ]
    },
    {
      "cell_type": "code",
      "metadata": {
        "id": "ME-qbpCYt7jV",
        "colab_type": "code",
        "colab": {}
      },
      "source": [
        "from keras.utils import to_categorical"
      ],
      "execution_count": 0,
      "outputs": []
    },
    {
      "cell_type": "code",
      "metadata": {
        "id": "XFWdRYxut9q_",
        "colab_type": "code",
        "colab": {}
      },
      "source": [
        "y = [to_categorical(i, num_classes=n_tags) for i in y]\n",
        "y_test = [to_categorical(i, num_classes=test_n_tags) for i in y]"
      ],
      "execution_count": 0,
      "outputs": []
    },
    {
      "cell_type": "markdown",
      "metadata": {
        "id": "nYCl0XSJrmdN",
        "colab_type": "text"
      },
      "source": [
        "Define Train and Test set"
      ]
    },
    {
      "cell_type": "code",
      "metadata": {
        "id": "-cpJ-oxMuA6K",
        "colab_type": "code",
        "colab": {}
      },
      "source": [
        "X_tr = X[:len(X)-len(test_X)]\n",
        "X_te = X[len(X)-len(test_X):]\n",
        "y_tr = y[:len(X)-len(test_X)]\n",
        "y_te = y[len(X)-len(test_X):]"
      ],
      "execution_count": 0,
      "outputs": []
    },
    {
      "cell_type": "code",
      "metadata": {
        "id": "GJrGa7wGketw",
        "colab_type": "code",
        "colab": {}
      },
      "source": [
        "# Code for if the train or test sets need to be shuffled\n",
        "\n",
        "# train set\n",
        "# import random\n",
        "# random.seed(23)\n",
        "# c = list(zip(X_tr, y_tr))\n",
        "# random.shuffle(c)\n",
        "# X_tr, y_tr = zip(*c)\n",
        "\n",
        "# test set\n",
        "# import random\n",
        "# random.seed(23)\n",
        "# c = list(zip(X_te, y_te))\n",
        "# random.shuffle(c)\n",
        "# X_te, y_te = zip(*c)"
      ],
      "execution_count": 0,
      "outputs": []
    },
    {
      "cell_type": "markdown",
      "metadata": {
        "id": "9IellHaErwN9",
        "colab_type": "text"
      },
      "source": [
        "The model"
      ]
    },
    {
      "cell_type": "code",
      "metadata": {
        "id": "mZ57sLtwaImZ",
        "colab_type": "code",
        "colab": {}
      },
      "source": [
        "!git clone https://www.github.com/keras-team/keras-contrib.git\n",
        "%cd keras-contrib\n",
        "!python setup.py install"
      ],
      "execution_count": 0,
      "outputs": []
    },
    {
      "cell_type": "code",
      "metadata": {
        "id": "i0OlCn9puC9l",
        "colab_type": "code",
        "colab": {}
      },
      "source": [
        "from keras.models import Model, Input\n",
        "from keras.layers import LSTM, Embedding, Dense, TimeDistributed, Dropout, Bidirectional\n",
        "from keras_contrib.layers import CRF"
      ],
      "execution_count": 0,
      "outputs": []
    },
    {
      "cell_type": "code",
      "metadata": {
        "id": "kimEWm9EwPU9",
        "colab_type": "code",
        "colab": {}
      },
      "source": [
        "input = Input(shape=(max_len,))\n",
        "model = Embedding(input_dim=n_words + 1, output_dim=50,\n",
        "                  input_length=max_len)(input)  # 20-dim embedding\n",
        "model = Bidirectional(LSTM(units=100, return_sequences=True,\n",
        "                           recurrent_dropout=0.1))(model)  # variational biLSTM\n",
        "model = TimeDistributed(Dense(50, activation=\"relu\"))(model)  # a dense layer as suggested by neuralNer\n",
        "crf = CRF(n_tags)  # CRF layer\n",
        "out = crf(model)  # output"
      ],
      "execution_count": 0,
      "outputs": []
    },
    {
      "cell_type": "code",
      "metadata": {
        "id": "jOmbgKowwdfQ",
        "colab_type": "code",
        "colab": {}
      },
      "source": [
        "model = Model(input, out)"
      ],
      "execution_count": 0,
      "outputs": []
    },
    {
      "cell_type": "code",
      "metadata": {
        "id": "5sgxL7D1wbqR",
        "colab_type": "code",
        "colab": {}
      },
      "source": [
        "model.compile(optimizer=\"rmsprop\", loss=crf.loss_function, metrics=[crf.accuracy])"
      ],
      "execution_count": 0,
      "outputs": []
    },
    {
      "cell_type": "code",
      "metadata": {
        "id": "YotGSJfWyEU2",
        "colab_type": "code",
        "colab": {}
      },
      "source": [
        "history = model.fit(np.array(X_tr), np.array(y_tr), batch_size=32, epochs=5,\n",
        "                    validation_split=0.1, verbose=1)"
      ],
      "execution_count": 0,
      "outputs": []
    },
    {
      "cell_type": "code",
      "metadata": {
        "id": "U6rEJZX5ygVe",
        "colab_type": "code",
        "colab": {}
      },
      "source": [
        "test_pred = model.predict(np.array(X_te), verbose=1)"
      ],
      "execution_count": 0,
      "outputs": []
    },
    {
      "cell_type": "code",
      "metadata": {
        "id": "6jCXaDWyyh8B",
        "colab_type": "code",
        "colab": {}
      },
      "source": [
        "idx2tag = {i: w for w, i in test_tag2idx.items()}\n",
        "\n",
        "def pred2label(pred):\n",
        "    out = []\n",
        "    for pred_i in pred:\n",
        "        out_i = []\n",
        "        for p in pred_i:\n",
        "            p_i = np.argmax(p)\n",
        "            out_i.append(idx2tag[p_i].replace(\"PAD\", \"O\"))\n",
        "        out.append(out_i)\n",
        "    return out\n",
        "    \n",
        "pred_labels = pred2label(test_pred)\n",
        "test_labels = pred2label(y_te)"
      ],
      "execution_count": 0,
      "outputs": []
    },
    {
      "cell_type": "markdown",
      "metadata": {
        "id": "ekkB3qqAszMv",
        "colab_type": "text"
      },
      "source": [
        "Evaluation"
      ]
    },
    {
      "cell_type": "code",
      "metadata": {
        "id": "ZBH1eKvpWS8K",
        "colab_type": "code",
        "colab": {}
      },
      "source": [
        "!pip install seqeval"
      ],
      "execution_count": 0,
      "outputs": []
    },
    {
      "cell_type": "code",
      "metadata": {
        "id": "Ip4BiJ8pyxII",
        "colab_type": "code",
        "colab": {}
      },
      "source": [
        "from nervaluate import Evaluator\n",
        "from seqeval.metrics import precision_score, recall_score, f1_score, classification_report"
      ],
      "execution_count": 0,
      "outputs": []
    },
    {
      "cell_type": "code",
      "metadata": {
        "id": "H3P9SdGEWNXa",
        "colab_type": "code",
        "colab": {}
      },
      "source": [
        "print(classification_report(test_labels, pred_labels))"
      ],
      "execution_count": 0,
      "outputs": []
    },
    {
      "cell_type": "code",
      "metadata": {
        "id": "qRl76PZ8s9C8",
        "colab_type": "code",
        "colab": {}
      },
      "source": [
        "evaluator = Evaluator(test_labels, pred_labels, tags= [''], loader='list')"
      ],
      "execution_count": 0,
      "outputs": []
    },
    {
      "cell_type": "code",
      "metadata": {
        "id": "9FJJGWals-W3",
        "colab_type": "code",
        "colab": {}
      },
      "source": [
        "results, results_per_tag = evaluator.evaluate()"
      ],
      "execution_count": 0,
      "outputs": []
    },
    {
      "cell_type": "code",
      "metadata": {
        "id": "sn8RYLSCs_sZ",
        "colab_type": "code",
        "colab": {}
      },
      "source": [
        "results"
      ],
      "execution_count": 0,
      "outputs": []
    },
    {
      "cell_type": "code",
      "metadata": {
        "id": "zM54PN6ltBXs",
        "colab_type": "code",
        "colab": {}
      },
      "source": [
        ""
      ],
      "execution_count": 0,
      "outputs": []
    }
  ]
}