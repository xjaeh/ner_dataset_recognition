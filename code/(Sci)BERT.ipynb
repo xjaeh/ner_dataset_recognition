{
  "nbformat": 4,
  "nbformat_minor": 0,
  "metadata": {
    "colab": {
      "name": "(Sci)BERT!.ipynb",
      "provenance": [],
      "toc_visible": true
    },
    "kernelspec": {
      "name": "python3",
      "display_name": "Python 3"
    },
    "accelerator": "GPU"
  },
  "cells": [
    {
      "cell_type": "markdown",
      "metadata": {
        "id": "587QGm1ouJtm",
        "colab_type": "text"
      },
      "source": [
        "#BERT"
      ]
    },
    {
      "cell_type": "markdown",
      "metadata": {
        "id": "VoN9f-GyuReC",
        "colab_type": "text"
      },
      "source": [
        "Clone the BERT-sklearn repository"
      ]
    },
    {
      "cell_type": "code",
      "metadata": {
        "id": "Sh3WnVOQ6Nz-",
        "colab_type": "code",
        "colab": {}
      },
      "source": [
        "!git clone -b master https://github.com/charles9n/bert-sklearn\n",
        "%cd bert-sklearn\n",
        "!pip install ."
      ],
      "execution_count": 0,
      "outputs": []
    },
    {
      "cell_type": "markdown",
      "metadata": {
        "id": "5S9Z_Vf9uvPf",
        "colab_type": "text"
      },
      "source": [
        "Import dependencies and load Train + Test data"
      ]
    },
    {
      "cell_type": "code",
      "metadata": {
        "id": "qHweRyt86bRg",
        "colab_type": "code",
        "colab": {}
      },
      "source": [
        "import pandas as pd\n",
        "import numpy as np\n",
        "from tqdm import tqdm, trange\n",
        "\n",
        "data = pd.read_csv('Train_set.csv', encoding='latin1')\n",
        "\n",
        "# Change de test sets\n",
        "\n",
        "test = pd.read_csv('Test_set.csv')\n",
        "# test = pd.read_csv('Zero-shot.csv')"
      ],
      "execution_count": 0,
      "outputs": []
    },
    {
      "cell_type": "markdown",
      "metadata": {
        "id": "5iMoPW4dvL7v",
        "colab_type": "text"
      },
      "source": [
        "Sentence Getter"
      ]
    },
    {
      "cell_type": "code",
      "metadata": {
        "id": "ZadN2TMw-T66",
        "colab_type": "code",
        "colab": {}
      },
      "source": [
        "class SentenceGetter(object):\n",
        "    \n",
        "    def __init__(self, data):\n",
        "        self.n_sent = 1\n",
        "        self.data = data\n",
        "        self.empty = False\n",
        "        agg_func = lambda s: [(str(w), p, t) for w, p, t in zip(s[\"Word\"].values.tolist(),\n",
        "                                                           s[\"POS\"].values.tolist(),\n",
        "                                                           s[\"Tag\"].values.tolist())]\n",
        "        self.grouped = self.data.groupby(\"Sentence #\").apply(agg_func)\n",
        "        self.sentences = [s for s in self.grouped]\n",
        "    \n",
        "    def get_next(self):\n",
        "        try:\n",
        "            s = self.grouped[\"Sentence: {}\".format(self.n_sent)]\n",
        "            self.n_sent += 1\n",
        "            return s\n",
        "        except:\n",
        "            return None"
      ],
      "execution_count": 0,
      "outputs": []
    },
    {
      "cell_type": "code",
      "metadata": {
        "id": "4YLH8hsr-ckv",
        "colab_type": "code",
        "colab": {}
      },
      "source": [
        "getter = SentenceGetter(data)\n",
        "test_getter = SentenceGetter(test)"
      ],
      "execution_count": 0,
      "outputs": []
    },
    {
      "cell_type": "code",
      "metadata": {
        "id": "G9Q5TJlc-e7r",
        "colab_type": "code",
        "colab": {}
      },
      "source": [
        "sentences = [[s[0] for s in sent] for sent in getter.sentences]\n",
        "test_sentences = [[s[0] for s in sent] for sent in test_getter.sentences]"
      ],
      "execution_count": 0,
      "outputs": []
    },
    {
      "cell_type": "code",
      "metadata": {
        "id": "yJwaegdo-gm6",
        "colab_type": "code",
        "colab": {}
      },
      "source": [
        "labels = [[s[2] for s in sent] for sent in getter.sentences]\n",
        "test_labels = [[s[2] for s in sent] for sent in test_getter.sentences]"
      ],
      "execution_count": 0,
      "outputs": []
    },
    {
      "cell_type": "code",
      "metadata": {
        "id": "pfrTymaO-4bD",
        "colab_type": "code",
        "colab": {}
      },
      "source": [
        "tokenized_texts = [[s for s in sent] for sent in sentences]\n",
        "test_tokenized_texts = [[s for s in sent] for sent in test_sentences]\n"
      ],
      "execution_count": 0,
      "outputs": []
    },
    {
      "cell_type": "markdown",
      "metadata": {
        "id": "IJ1oxRA5wHoO",
        "colab_type": "text"
      },
      "source": [
        "Define Test and Train data"
      ]
    },
    {
      "cell_type": "code",
      "metadata": {
        "id": "JRuDG2obB6pL",
        "colab_type": "code",
        "colab": {}
      },
      "source": [
        "X_train = tokenized_texts\n",
        "y_train = labels\n",
        "X_test = test_tokenized_texts\n",
        "y_test = test_labels"
      ],
      "execution_count": 0,
      "outputs": []
    },
    {
      "cell_type": "code",
      "metadata": {
        "id": "NbvyuuulGnRA",
        "colab_type": "code",
        "colab": {}
      },
      "source": [
        "import random\n",
        "random.seed(23)\n",
        "c = list(zip(X_train, y_train))\n",
        "random.shuffle(c)\n",
        "X_train, y_train = zip(*c)"
      ],
      "execution_count": 0,
      "outputs": []
    },
    {
      "cell_type": "markdown",
      "metadata": {
        "id": "d5jNnRNwv01N",
        "colab_type": "text"
      },
      "source": [
        "The model"
      ]
    },
    {
      "cell_type": "code",
      "metadata": {
        "id": "smyrDuEU_Ym6",
        "colab_type": "code",
        "colab": {}
      },
      "source": [
        "import os\n",
        "import math\n",
        "import random\n",
        "import csv\n",
        "import sys\n",
        "\n",
        "import numpy as np\n",
        "import pandas as pd\n",
        "from sklearn import metrics\n",
        "from sklearn.metrics import f1_score\n",
        "import statistics as stats\n",
        "\n",
        "from bert_sklearn import BertClassifier\n",
        "from bert_sklearn import BertRegressor\n",
        "from bert_sklearn import BertTokenClassifier\n",
        "from bert_sklearn import load_model"
      ],
      "execution_count": 0,
      "outputs": []
    },
    {
      "cell_type": "code",
      "metadata": {
        "id": "t8_xJ_fqnbAH",
        "colab_type": "code",
        "colab": {}
      },
      "source": [
        "label_list = list(set(data.Tag.to_list()))"
      ],
      "execution_count": 0,
      "outputs": []
    },
    {
      "cell_type": "code",
      "metadata": {
        "id": "TJL6fFT6_gsU",
        "colab_type": "code",
        "colab": {}
      },
      "source": [
        "%%time\n",
        "# define model\n",
        "\n",
        "# Choose between BERT or SciBERT\n",
        "\n",
        "model = BertTokenClassifier(bert_model='bert-base-cased',\n",
        "# model = BertTokenClassifier(bert_model='scibert-scivocab-cased',\n",
        "                            max_seq_length=178,\n",
        "                            epochs=3,\n",
        "                            gradient_accumulation_steps=4,\n",
        "                            learning_rate=5e-5,\n",
        "                            train_batch_size=16,\n",
        "                            eval_batch_size=16,\n",
        "                            validation_fraction=0., \n",
        "                            label_list=label_list,                           \n",
        "                            ignore_label=['O'])\n",
        "\n",
        "\n",
        "print(model)\n",
        "\n",
        "# finetune model\n",
        "model.fit(np.array(X_train), np.array(y_train))\n",
        "\n",
        "# # score model\n",
        "f1_test = model.score(X_test, y_test, 'macro')\n",
        "print(\"Test f1: %0.02f\"%(f1_test))\n",
        "\n",
        "# make predictions\n",
        "y_preds = model.predict(np.array(X_test))\n",
        "\n"
      ],
      "execution_count": 0,
      "outputs": []
    },
    {
      "cell_type": "markdown",
      "metadata": {
        "id": "Kuz2gRnHygh4",
        "colab_type": "text"
      },
      "source": [
        "Evaluation"
      ]
    },
    {
      "cell_type": "code",
      "metadata": {
        "id": "tCesRP9OKY0G",
        "colab_type": "code",
        "colab": {}
      },
      "source": [
        "!pip install seqeval"
      ],
      "execution_count": 0,
      "outputs": []
    },
    {
      "cell_type": "code",
      "metadata": {
        "id": "Io9vHiWHNMuF",
        "colab_type": "code",
        "colab": {}
      },
      "source": [
        "from nervaluate import Evaluator\n",
        "from seqeval.metrics import precision_score, recall_score, f1_score, classification_report"
      ],
      "execution_count": 0,
      "outputs": []
    },
    {
      "cell_type": "code",
      "metadata": {
        "id": "6t3NWSJ-ZI-a",
        "colab_type": "code",
        "colab": {}
      },
      "source": [
        "print(classification_report(y_test, y_preds))"
      ],
      "execution_count": 0,
      "outputs": []
    },
    {
      "cell_type": "code",
      "metadata": {
        "id": "xgzqPrdRypVD",
        "colab_type": "code",
        "colab": {}
      },
      "source": [
        "evaluator = Evaluator(y_test, y_preds, tags= [''], loader='list')"
      ],
      "execution_count": 0,
      "outputs": []
    },
    {
      "cell_type": "code",
      "metadata": {
        "id": "0ipfiUeezSsk",
        "colab_type": "code",
        "colab": {}
      },
      "source": [
        "results, results_per_tag = evaluator.evaluate()"
      ],
      "execution_count": 0,
      "outputs": []
    },
    {
      "cell_type": "code",
      "metadata": {
        "id": "O8QBww79zOzF",
        "colab_type": "code",
        "colab": {}
      },
      "source": [
        "results"
      ],
      "execution_count": 0,
      "outputs": []
    },
    {
      "cell_type": "code",
      "metadata": {
        "id": "mrn83OcCzPj0",
        "colab_type": "code",
        "colab": {}
      },
      "source": [
        ""
      ],
      "execution_count": 0,
      "outputs": []
    }
  ]
}