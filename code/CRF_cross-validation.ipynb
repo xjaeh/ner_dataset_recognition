{
  "nbformat": 4,
  "nbformat_minor": 0,
  "metadata": {
    "kernelspec": {
      "name": "python3",
      "display_name": "Python 3"
    },
    "language_info": {
      "codemirror_mode": {
        "name": "ipython",
        "version": 3
      },
      "file_extension": ".py",
      "mimetype": "text/x-python",
      "name": "python",
      "nbconvert_exporter": "python",
      "pygments_lexer": "ipython3",
      "version": "3.6.4"
    },
    "colab": {
      "name": "cv_CRF!.ipynb",
      "provenance": [],
      "toc_visible": true
    }
  },
  "cells": [
    {
      "cell_type": "markdown",
      "metadata": {
        "id": "unKq-EPII0R5",
        "colab_type": "text"
      },
      "source": [
        "# CRF"
      ]
    },
    {
      "cell_type": "markdown",
      "metadata": {
        "id": "4fU7TmKyI3JL",
        "colab_type": "text"
      },
      "source": [
        "import pandas + numpy and load data"
      ]
    },
    {
      "cell_type": "code",
      "metadata": {
        "id": "EiTlAdauJaEX",
        "colab_type": "code",
        "colab": {}
      },
      "source": [
        "import pandas as pd\n",
        "import numpy as np\n",
        "\n",
        "data = pd.read_csv('Dataset.csv', encoding='latin1')[['Sentence #','Word','POS', 'Tag']]"
      ],
      "execution_count": 0,
      "outputs": []
    },
    {
      "cell_type": "markdown",
      "metadata": {
        "id": "Jk3YS95-LjTA",
        "colab_type": "text"
      },
      "source": [
        "Make a list of all words in the train and test set"
      ]
    },
    {
      "cell_type": "code",
      "metadata": {
        "id": "0HkPrl6sJaEs",
        "colab_type": "code",
        "colab": {}
      },
      "source": [
        "words = list(set(data['Word'].values))"
      ],
      "execution_count": 0,
      "outputs": []
    },
    {
      "cell_type": "code",
      "metadata": {
        "id": "cqDTQGbeJaE1",
        "colab_type": "code",
        "colab": {}
      },
      "source": [
        "n_words = len(words)"
      ],
      "execution_count": 0,
      "outputs": []
    },
    {
      "cell_type": "markdown",
      "metadata": {
        "id": "JAKAmM9xLnmu",
        "colab_type": "text"
      },
      "source": [
        "Sentence getter"
      ]
    },
    {
      "cell_type": "code",
      "metadata": {
        "id": "moqGLawXJaE7",
        "colab_type": "code",
        "colab": {}
      },
      "source": [
        "class SentenceGetter(object):\n",
        "    \n",
        "    def __init__(self, data):\n",
        "        self.n_sent = 1\n",
        "        self.data = data\n",
        "        self.empty = False\n",
        "        agg_func = lambda s: [(w, p, t) for w, p, t in zip(s[\"Word\"].values.tolist(),\n",
        "                                                           s[\"POS\"].values.tolist(),\n",
        "                                                           s[\"Tag\"].values.tolist())]\n",
        "        self.grouped = self.data.groupby(\"Sentence #\").apply(agg_func)\n",
        "        self.sentences = [s for s in self.grouped]\n",
        "    \n",
        "    def get_next(self):\n",
        "        try:\n",
        "            s = self.grouped[\"Sentence: {}\".format(self.n_sent)]\n",
        "            self.n_sent += 1\n",
        "            return s\n",
        "        except:\n",
        "            return None"
      ],
      "execution_count": 0,
      "outputs": []
    },
    {
      "cell_type": "code",
      "metadata": {
        "id": "x5475233JaFD",
        "colab_type": "code",
        "colab": {}
      },
      "source": [
        "getter = SentenceGetter(data)"
      ],
      "execution_count": 0,
      "outputs": []
    },
    {
      "cell_type": "code",
      "metadata": {
        "id": "QH-5u4w-JaFL",
        "colab_type": "code",
        "colab": {}
      },
      "source": [
        "sent = getter.get_next()"
      ],
      "execution_count": 0,
      "outputs": []
    },
    {
      "cell_type": "code",
      "metadata": {
        "id": "CeYzioOVJaFW",
        "colab_type": "code",
        "colab": {}
      },
      "source": [
        "sentences = getter.sentences\n"
      ],
      "execution_count": 0,
      "outputs": []
    },
    {
      "cell_type": "markdown",
      "metadata": {
        "id": "0pmKaEqcL9DQ",
        "colab_type": "text"
      },
      "source": [
        "Get a word's features"
      ]
    },
    {
      "cell_type": "code",
      "metadata": {
        "id": "TSfgj3KBJaFh",
        "colab_type": "code",
        "colab": {}
      },
      "source": [
        "def word2features(sent, i):\n",
        "    word = str(sent[i][0])\n",
        "    postag = str(sent[i][1])\n",
        "\n",
        "    features = {\n",
        "        'bias': 1.0,\n",
        "        'word.lower()': word.lower(),\n",
        "        'word[-3:]': word[-3:],\n",
        "        'word[-2:]': word[-2:],\n",
        "        'word.isupper()': word.isupper(),\n",
        "        'word.istitle()': word.istitle(),\n",
        "        'word.isdigit()': word.isdigit(),\n",
        "        'postag': postag,\n",
        "        'postag[:2]': postag[:2],\n",
        "    }\n",
        "    if i > 0:\n",
        "        word1 = str(sent[i-1][0])\n",
        "        postag1 = str(sent[i-1][1])\n",
        "        features.update({\n",
        "            '-1:word.lower()': word1.lower(),\n",
        "            '-1:word.istitle()': word1.istitle(),\n",
        "            '-1:word.isupper()': word1.isupper(),\n",
        "            '-1:postag': postag1,\n",
        "            '-1:postag[:2]': postag1[:2],\n",
        "        })\n",
        "    else:\n",
        "        features['BOS'] = True\n",
        "\n",
        "    if i < len(sent)-1:\n",
        "        word1 = str(sent[i+1][0])\n",
        "        postag1 = str(sent[i+1][1])\n",
        "        features.update({\n",
        "            '+1:word.lower()': word1.lower(),\n",
        "            '+1:word.istitle()': word1.istitle(),\n",
        "            '+1:word.isupper()': word1.isupper(),\n",
        "            '+1:postag': postag1,\n",
        "            '+1:postag[:2]': postag1[:2],\n",
        "        })\n",
        "    else:\n",
        "        features['EOS'] = True\n",
        "\n",
        "    return features\n",
        "\n",
        "\n",
        "def sent2features(sent):\n",
        "    return [word2features(sent, i) for i in range(len(sent))]\n",
        "\n",
        "def sent2labels(sent):\n",
        "    return [label for token, postag, label in sent]\n",
        "\n",
        "def sent2tokens(sent):\n",
        "    return [token for token, postag, label in sent]"
      ],
      "execution_count": 0,
      "outputs": []
    },
    {
      "cell_type": "code",
      "metadata": {
        "id": "UPS3GgJGJaFo",
        "colab_type": "code",
        "colab": {}
      },
      "source": [
        "X = [sent2features(s) for s in sentences]\n",
        "X1 = [str(s) for s in sentences]\n",
        "y = [sent2labels(s) for s in sentences]"
      ],
      "execution_count": 0,
      "outputs": []
    },
    {
      "cell_type": "markdown",
      "metadata": {
        "id": "wL9EMyIuMHD8",
        "colab_type": "text"
      },
      "source": [
        "The model"
      ]
    },
    {
      "cell_type": "code",
      "metadata": {
        "id": "p4TP6xmVHvTf",
        "colab_type": "code",
        "colab": {}
      },
      "source": [
        "!pip install sklearn_crfsuite"
      ],
      "execution_count": 0,
      "outputs": []
    },
    {
      "cell_type": "code",
      "metadata": {
        "id": "dfO6-9off9od",
        "colab_type": "code",
        "colab": {}
      },
      "source": [
        "!pip install seqeval"
      ],
      "execution_count": 0,
      "outputs": []
    },
    {
      "cell_type": "code",
      "metadata": {
        "id": "vUufM7bK_dTQ",
        "colab_type": "code",
        "colab": {}
      },
      "source": [
        "import os\n",
        "from sklearn.model_selection import KFold\n",
        "from sklearn.model_selection import StratifiedKFold\n",
        "from sklearn.preprocessing import MultiLabelBinarizer\n",
        "from sklearn.preprocessing import LabelEncoder\n",
        "from sklearn_crfsuite import CRF\n",
        "from seqeval.metrics import precision_score, recall_score, f1_score, classification_report\n",
        "from nervaluate import Evaluator\n",
        "\n",
        "# Cross-Validate\n",
        "skf = StratifiedKFold(5, shuffle=False, random_state=23)\n",
        "\n",
        "    \n",
        "oos_y = []\n",
        "oos_pred = []\n",
        "resultslist = []\n",
        "\n",
        "oos_x = []\n",
        "\n",
        "\n",
        "fold = 0\n",
        "\n",
        "label_encoder = LabelEncoder()\n",
        "for train, test in skf.split(X,[1 if 'B' in ya else 0 for ya in y ]):\n",
        "    fold+=1\n",
        "    print(f\"Fold #{fold}\")\n",
        "        \n",
        "    x_train = np.array(X)[train]\n",
        "    y_train = np.array(y)[train]\n",
        "    x_test = np.array(X)[test]\n",
        "    y_test = np.array(y)[test]\n",
        "    \n",
        "    crf = CRF(algorithm='lbfgs',\n",
        "          c1=10,\n",
        "          c2=0.1,\n",
        "          max_iterations=100,\n",
        "          all_possible_transitions=False)\n",
        "\n",
        "    crf.fit(x_train, y_train)\n",
        "\n",
        "    \n",
        "    pred = crf.predict(x_test)\n",
        "    \n",
        "    print(classification_report(y_test, pred))\n",
        "    evaluator = Evaluator(y_test, pred, tags = [''], loader='list')\n",
        "    results, results_per_tag = evaluator.evaluate()\n",
        "    resultslist.append(results)\n",
        "\n",
        "    oos_y.append(y_test)\n",
        "    oos_x.append(x_test)\n",
        "    oos_pred.append(pred)    \n",
        "\n",
        "\n",
        "\n",
        "# Build the oos prediction list \n",
        "oos_y = np.concatenate(oos_y)\n",
        "oos_pred = np.concatenate(oos_pred)\n",
        "oos_x = np.concatenate(oos_x)\n"
      ],
      "execution_count": 0,
      "outputs": []
    },
    {
      "cell_type": "markdown",
      "metadata": {
        "id": "PnZymrtZikc6",
        "colab_type": "text"
      },
      "source": [
        "Results"
      ]
    },
    {
      "cell_type": "code",
      "metadata": {
        "id": "RkMg7riHm92j",
        "colab_type": "code",
        "colab": {}
      },
      "source": [
        "# Calculate the SD scores of the B and I\n",
        "\n",
        "#np.std(np.array(['Fill in the scores']))"
      ],
      "execution_count": 0,
      "outputs": []
    },
    {
      "cell_type": "code",
      "metadata": {
        "id": "SyHVrwSap2fa",
        "colab_type": "code",
        "colab": {}
      },
      "source": [
        "# Calculate the SD score of partial and exact\n",
        "\n",
        "np.std(np.array([r['partial']['precision'] for r in resultslist]))"
      ],
      "execution_count": 0,
      "outputs": []
    },
    {
      "cell_type": "code",
      "metadata": {
        "id": "bHDUioXgElEH",
        "colab_type": "code",
        "colab": {}
      },
      "source": [
        "print(classification_report(oos_y, oos_pred))"
      ],
      "execution_count": 0,
      "outputs": []
    },
    {
      "cell_type": "code",
      "metadata": {
        "id": "p6qsG1CGJaG2",
        "colab_type": "code",
        "colab": {}
      },
      "source": [
        "evaluator = Evaluator(oos_y, oos_pred, tags= [''], loader='list')\n",
        "results, results_per_tag = evaluator.evaluate()"
      ],
      "execution_count": 0,
      "outputs": []
    },
    {
      "cell_type": "code",
      "metadata": {
        "id": "nqqedNlWi1yc",
        "colab_type": "code",
        "colab": {}
      },
      "source": [
        "results"
      ],
      "execution_count": 0,
      "outputs": []
    },
    {
      "cell_type": "code",
      "metadata": {
        "id": "5DFBnjLni2ks",
        "colab_type": "code",
        "colab": {}
      },
      "source": [
        ""
      ],
      "execution_count": 0,
      "outputs": []
    }
  ]
}