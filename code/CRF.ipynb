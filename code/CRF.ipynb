{
  "nbformat": 4,
  "nbformat_minor": 0,
  "metadata": {
    "kernelspec": {
      "name": "python3",
      "display_name": "Python 3"
    },
    "language_info": {
      "codemirror_mode": {
        "name": "ipython",
        "version": 3
      },
      "file_extension": ".py",
      "mimetype": "text/x-python",
      "name": "python",
      "nbconvert_exporter": "python",
      "pygments_lexer": "ipython3",
      "version": "3.6.4"
    },
    "colab": {
      "name": "CRF! .ipynb",
      "provenance": [],
      "collapsed_sections": [],
      "toc_visible": true
    }
  },
  "cells": [
    {
      "cell_type": "markdown",
      "metadata": {
        "id": "xRHKTGXhcu8y",
        "colab_type": "text"
      },
      "source": [
        " # CRF"
      ]
    },
    {
      "cell_type": "markdown",
      "metadata": {
        "id": "Sg4PMn57c0Th",
        "colab_type": "text"
      },
      "source": [
        "Import pandas + numpy  and load train + test data"
      ]
    },
    {
      "cell_type": "code",
      "metadata": {
        "id": "EiTlAdauJaEX",
        "colab_type": "code",
        "colab": {}
      },
      "source": [
        "import pandas as pd\n",
        "import numpy as np\n",
        "\n",
        "data = pd.read_csv('Train_set.csv', encoding='latin1')\n",
        "\n",
        "# Change de test sets\n",
        "\n",
        "test = pd.read_csv('Test_set.csv')\n",
        "# test = pd.read_csv('Zero-shot.csv')"
      ],
      "execution_count": 0,
      "outputs": []
    },
    {
      "cell_type": "markdown",
      "metadata": {
        "id": "kqt8zNpLdD2d",
        "colab_type": "text"
      },
      "source": [
        "Make a list of all words in the train and test set"
      ]
    },
    {
      "cell_type": "code",
      "metadata": {
        "id": "0HkPrl6sJaEs",
        "colab_type": "code",
        "colab": {}
      },
      "source": [
        "words = list(set(data['Word'].values))\n",
        "test_words = list(set(test[\"Word\"].values))"
      ],
      "execution_count": 0,
      "outputs": []
    },
    {
      "cell_type": "code",
      "metadata": {
        "id": "cqDTQGbeJaE1",
        "colab_type": "code",
        "colab": {}
      },
      "source": [
        "test_n_words = len(test_words)\n",
        "n_words = len(words)"
      ],
      "execution_count": 0,
      "outputs": []
    },
    {
      "cell_type": "markdown",
      "metadata": {
        "id": "qTvOpauQdRSR",
        "colab_type": "text"
      },
      "source": [
        "Sentence getter"
      ]
    },
    {
      "cell_type": "code",
      "metadata": {
        "id": "moqGLawXJaE7",
        "colab_type": "code",
        "colab": {}
      },
      "source": [
        "class SentenceGetter(object):\n",
        "    \n",
        "    def __init__(self, data):\n",
        "        self.n_sent = 1\n",
        "        self.data = data\n",
        "        self.empty = False\n",
        "        agg_func = lambda s: [(w, p, t) for w, p, t in zip(s[\"Word\"].values.tolist(),\n",
        "                                                           s[\"POS\"].values.tolist(),\n",
        "                                                           s[\"Tag\"].values.tolist())]\n",
        "        self.grouped = self.data.groupby(\"Sentence #\").apply(agg_func)\n",
        "        self.sentences = [s for s in self.grouped]\n",
        "    \n",
        "    def get_next(self):\n",
        "        try:\n",
        "            s = self.grouped[\"Sentence: {}\".format(self.n_sent)]\n",
        "            self.n_sent += 1\n",
        "            return s\n",
        "        except:\n",
        "            return None"
      ],
      "execution_count": 0,
      "outputs": []
    },
    {
      "cell_type": "code",
      "metadata": {
        "id": "x5475233JaFD",
        "colab_type": "code",
        "colab": {}
      },
      "source": [
        "getter = SentenceGetter(data)\n",
        "test_getter = SentenceGetter(test)"
      ],
      "execution_count": 0,
      "outputs": []
    },
    {
      "cell_type": "code",
      "metadata": {
        "id": "QH-5u4w-JaFL",
        "colab_type": "code",
        "colab": {}
      },
      "source": [
        "sent = getter.get_next()\n",
        "test_sent = test_getter.get_next()"
      ],
      "execution_count": 0,
      "outputs": []
    },
    {
      "cell_type": "code",
      "metadata": {
        "id": "CeYzioOVJaFW",
        "colab_type": "code",
        "colab": {}
      },
      "source": [
        "sentences = getter.sentences\n",
        "test_sentences = test_getter.sentences"
      ],
      "execution_count": 0,
      "outputs": []
    },
    {
      "cell_type": "markdown",
      "metadata": {
        "id": "UkXCiF7Kdgj1",
        "colab_type": "text"
      },
      "source": [
        "Get a word's features"
      ]
    },
    {
      "cell_type": "code",
      "metadata": {
        "id": "TSfgj3KBJaFh",
        "colab_type": "code",
        "colab": {}
      },
      "source": [
        "def word2features(sent, i):\n",
        "    word = str(sent[i][0])\n",
        "    postag = str(sent[i][1])\n",
        "\n",
        "    features = {\n",
        "        'bias': 1.0,\n",
        "        'word.lower()': word.lower(),\n",
        "        'word[-3:]': word[-3:],\n",
        "        'word[-2:]': word[-2:],\n",
        "        'word.isupper()': word.isupper(),\n",
        "        'word.istitle()': word.istitle(),\n",
        "        'word.isdigit()': word.isdigit(),\n",
        "        'postag': postag,\n",
        "        'postag[:2]': postag[:2],\n",
        "    }\n",
        "    if i > 0:\n",
        "        word1 = str(sent[i-1][0])\n",
        "        postag1 = str(sent[i-1][1])\n",
        "        features.update({\n",
        "            '-1:word.lower()': word1.lower(),\n",
        "            '-1:word.istitle()': word1.istitle(),\n",
        "            '-1:word.isupper()': word1.isupper(),\n",
        "            '-1:postag': postag1,\n",
        "            '-1:postag[:2]': postag1[:2],\n",
        "        })\n",
        "    else:\n",
        "        features['BOS'] = True\n",
        "\n",
        "    if i < len(sent)-1:\n",
        "        word1 = str(sent[i+1][0])\n",
        "        postag1 = str(sent[i+1][1])\n",
        "        features.update({\n",
        "            '+1:word.lower()': word1.lower(),\n",
        "            '+1:word.istitle()': word1.istitle(),\n",
        "            '+1:word.isupper()': word1.isupper(),\n",
        "            '+1:postag': postag1,\n",
        "            '+1:postag[:2]': postag1[:2],\n",
        "        })\n",
        "    else:\n",
        "        features['EOS'] = True\n",
        "\n",
        "    return features\n",
        "\n",
        "\n",
        "def sent2features(sent):\n",
        "    return [word2features(sent, i) for i in range(len(sent))]\n",
        "\n",
        "def sent2labels(sent):\n",
        "    return [label for token, postag, label in sent]\n",
        "\n",
        "def sent2tokens(sent):\n",
        "    return [token for token, postag, label in sent]"
      ],
      "execution_count": 0,
      "outputs": []
    },
    {
      "cell_type": "code",
      "metadata": {
        "id": "UPS3GgJGJaFo",
        "colab_type": "code",
        "colab": {}
      },
      "source": [
        "X = [sent2features(s) for s in sentences]\n",
        "y = [sent2labels(s) for s in sentences]\n",
        "test_X = [sent2features(s) for s in test_sentences]\n",
        "test_y = [sent2labels(s) for s in test_sentences]"
      ],
      "execution_count": 0,
      "outputs": []
    },
    {
      "cell_type": "markdown",
      "metadata": {
        "id": "kDY5rf3tNZHb",
        "colab_type": "text"
      },
      "source": [
        "Define Train and Test set"
      ]
    },
    {
      "cell_type": "code",
      "metadata": {
        "id": "gdZREJBBxRCE",
        "colab_type": "code",
        "colab": {}
      },
      "source": [
        "X_tr = X\n",
        "X_te = test_X\n",
        "y_tr = y\n",
        "y_te = test_y"
      ],
      "execution_count": 0,
      "outputs": []
    },
    {
      "cell_type": "code",
      "metadata": {
        "id": "P51mbtAXW5Tz",
        "colab_type": "code",
        "colab": {}
      },
      "source": [
        "# Code for if the train or test sets need to be shuffled\n",
        "\n",
        "# train set\n",
        "# import random\n",
        "# random.seed(23)\n",
        "# c = list(zip(X_tr, y_tr))\n",
        "# random.shuffle(c)\n",
        "# X_tr, y_tr = zip(*c)\n",
        "\n",
        "# test set\n",
        "# import random\n",
        "# random.seed(23)\n",
        "# c = list(zip(X_te, y_te))\n",
        "# random.shuffle(c)\n",
        "# X_te, y_te = zip(*c)"
      ],
      "execution_count": 0,
      "outputs": []
    },
    {
      "cell_type": "code",
      "metadata": {
        "id": "p4TP6xmVHvTf",
        "colab_type": "code",
        "colab": {}
      },
      "source": [
        "!pip install sklearn_crfsuite"
      ],
      "execution_count": 0,
      "outputs": []
    },
    {
      "cell_type": "markdown",
      "metadata": {
        "id": "h1kjIVInNiDy",
        "colab_type": "text"
      },
      "source": [
        "The Model"
      ]
    },
    {
      "cell_type": "code",
      "metadata": {
        "id": "iu4DDQ7lJaFu",
        "colab_type": "code",
        "colab": {}
      },
      "source": [
        "from sklearn_crfsuite import CRF"
      ],
      "execution_count": 0,
      "outputs": []
    },
    {
      "cell_type": "code",
      "metadata": {
        "id": "MsK9ybgAJaGZ",
        "colab_type": "code",
        "colab": {}
      },
      "source": [
        "crf = CRF(algorithm='lbfgs',\n",
        "          c1=10,\n",
        "          c2=0.1,\n",
        "          max_iterations=100,\n",
        "          all_possible_transitions=False)"
      ],
      "execution_count": 0,
      "outputs": []
    },
    {
      "cell_type": "code",
      "metadata": {
        "id": "sGQxsziiHhfr",
        "colab_type": "code",
        "colab": {}
      },
      "source": [
        "crf.fit(X_tr, y_tr)\n",
        "y_pred = crf.predict(X_te)"
      ],
      "execution_count": 0,
      "outputs": []
    },
    {
      "cell_type": "markdown",
      "metadata": {
        "id": "CoFEyXdCOH5E",
        "colab_type": "text"
      },
      "source": [
        "Evaluation"
      ]
    },
    {
      "cell_type": "code",
      "metadata": {
        "id": "Opb0uqs0E1t-",
        "colab_type": "code",
        "colab": {}
      },
      "source": [
        "from nervaluate import Evaluator\n",
        "from sklearn_crfsuite import metrics"
      ],
      "execution_count": 0,
      "outputs": []
    },
    {
      "cell_type": "code",
      "metadata": {
        "id": "HPTrTDCAMP9e",
        "colab_type": "code",
        "colab": {}
      },
      "source": [
        "print(metrics.flat_classification_report(y_te, y_pred))"
      ],
      "execution_count": 0,
      "outputs": []
    },
    {
      "cell_type": "code",
      "metadata": {
        "id": "XHnztlsLfWA1",
        "colab_type": "code",
        "colab": {}
      },
      "source": [
        "test_sents_labels = []\n",
        "for sentence in test_sentences:\n",
        "    sentence = [token[2] for token in sentence]\n",
        "    test_sents_labels.append(sentence)"
      ],
      "execution_count": 0,
      "outputs": []
    },
    {
      "cell_type": "code",
      "metadata": {
        "id": "foRNu-qjGgRj",
        "colab_type": "code",
        "colab": {}
      },
      "source": [
        "evaluator = Evaluator(y_te, y_pred, tags= [''], loader='list')"
      ],
      "execution_count": 0,
      "outputs": []
    },
    {
      "cell_type": "code",
      "metadata": {
        "id": "GmAWzvS2GohE",
        "colab_type": "code",
        "colab": {}
      },
      "source": [
        "results, results_per_tag = evaluator.evaluate()"
      ],
      "execution_count": 0,
      "outputs": []
    },
    {
      "cell_type": "code",
      "metadata": {
        "id": "7dDUqyEurD_Q",
        "colab_type": "code",
        "colab": {}
      },
      "source": [
        "results"
      ],
      "execution_count": 0,
      "outputs": []
    },
    {
      "cell_type": "code",
      "metadata": {
        "id": "DNXqIBfSOu81",
        "colab_type": "code",
        "colab": {}
      },
      "source": [
        ""
      ],
      "execution_count": 0,
      "outputs": []
    }
  ]
}